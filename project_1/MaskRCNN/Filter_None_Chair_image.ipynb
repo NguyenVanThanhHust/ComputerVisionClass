{
 "cells": [
  {
   "cell_type": "code",
   "execution_count": 1,
   "metadata": {},
   "outputs": [],
   "source": [
    "import os\n",
    "import os.path as osp\n",
    "import pickle"
   ]
  },
  {
   "cell_type": "code",
   "execution_count": 2,
   "metadata": {},
   "outputs": [],
   "source": [
    "dataset_folder = \"../../data/ADE20K_chair/training/\"\n",
    "if not osp.isdir(dataset_folder):\n",
    "    print(\"check\")"
   ]
  },
  {
   "cell_type": "code",
   "execution_count": 3,
   "metadata": {},
   "outputs": [],
   "source": [
    "list_file_path = []\n",
    "list_abc_folder = next(os.walk(dataset_folder))[1]\n",
    "for each_abc_folder in list_abc_folder:\n",
    "    abc_folder=osp.join(dataset_folder, each_abc_folder)\n",
    "    list_scene_folder = next(os.walk(abc_folder))[1]\n",
    "    for each_scene_folder in list_scene_folder:\n",
    "        scene_folder = osp.join(abc_folder, each_scene_folder)\n",
    "        list_file = next(os.walk(scene_folder))[2]\n",
    "        for idx, file_name in enumerate(list_file):\n",
    "            if \"_seg.png\" in file_name:\n",
    "                ori_fn = file_name[:18]\n",
    "                fp1 = osp.join(scene_folder, ori_fn+\".jpg\")\n",
    "                fp2 = osp.join(scene_folder, ori_fn+\"_seg.png\")\n",
    "                list_file_path.append(fp1)\n",
    "                list_file_path.append(fp2)\n",
    "        if len(list_file) == 0:\n",
    "            list_sub_folder = next(os.walk(scene_folder))[1]\n",
    "            for sub_folder in list_sub_folder: \n",
    "                sub_path = osp.join(scene_folder, sub_folder)\n",
    "                list_file = next(os.walk(scene_folder))[2]\n",
    "                for idx, file_name in enumerate(sub_path):\n",
    "                    if \"_seg.png\" in file_name:\n",
    "                        ori_fn = file_name[:18]\n",
    "                        fp1 = osp.join(scene_folder, ori_fn+\".jpg\")\n",
    "                        fp2 = osp.join(scene_folder, ori_fn+\"_seg.png\")\n",
    "                        list_file_path.append(fp1)\n",
    "                        list_file_path.append(fp2)"
   ]
  },
  {
   "cell_type": "code",
   "execution_count": 4,
   "metadata": {},
   "outputs": [
    {
     "name": "stdout",
     "output_type": "stream",
     "text": [
      "5398\n"
     ]
    }
   ],
   "source": [
    "print(len(list_file_path))"
   ]
  },
  {
   "cell_type": "code",
   "execution_count": 6,
   "metadata": {},
   "outputs": [],
   "source": [
    "list_abc_folder = next(os.walk(dataset_folder))[1]\n",
    "for each_abc_folder in list_abc_folder:\n",
    "    abc_folder=osp.join(dataset_folder, each_abc_folder)\n",
    "    list_scene_folder = next(os.walk(abc_folder))[1]\n",
    "    for each_scene_folder in list_scene_folder:\n",
    "        scene_folder = osp.join(abc_folder, each_scene_folder)\n",
    "        list_file = next(os.walk(scene_folder))[2]\n",
    "        for idx, file_name in enumerate(list_file):\n",
    "            fp = osp.join(scene_folder, file_name)\n",
    "            if fp not in list_file_path:\n",
    "                os.remove(fp)\n",
    "        if len(list_file) == 0:\n",
    "            list_sub_folder = next(os.walk(scene_folder))[1]\n",
    "            for sub_folder in list_sub_folder: \n",
    "                sub_path = osp.join(scene_folder, sub_folder)\n",
    "                list_file = next(os.walk(scene_folder))[2]\n",
    "                for idx, file_name in enumerate(sub_path):\n",
    "                    fp = osp.join(scene_folder, file_name)\n",
    "                    os.remove(fp)"
   ]
  },
  {
   "cell_type": "code",
   "execution_count": 7,
   "metadata": {},
   "outputs": [
    {
     "name": "stdout",
     "output_type": "stream",
     "text": [
      "5398\n"
     ]
    }
   ],
   "source": [
    "print(len(list_file_path))"
   ]
  },
  {
   "cell_type": "code",
   "execution_count": 17,
   "metadata": {},
   "outputs": [],
   "source": [
    "with open(\"train.pkl\", \"wb\") as fp:\n",
    "    pickle.dump(list_file_path, fp)\n"
   ]
  },
  {
   "cell_type": "code",
   "execution_count": 9,
   "metadata": {},
   "outputs": [
    {
     "ename": "IsADirectoryError",
     "evalue": "[Errno 21] Is a directory: '../../data/ADE20K_chair/validation/e/elevator/.'",
     "output_type": "error",
     "traceback": [
      "\u001b[0;31m---------------------------------------------------------------------------\u001b[0m",
      "\u001b[0;31mIsADirectoryError\u001b[0m                         Traceback (most recent call last)",
      "\u001b[0;32m<ipython-input-9-d76821d7302c>\u001b[0m in \u001b[0;36m<module>\u001b[0;34m\u001b[0m\n\u001b[1;32m     46\u001b[0m                 \u001b[0;32mfor\u001b[0m \u001b[0midx\u001b[0m\u001b[0;34m,\u001b[0m \u001b[0mfile_name\u001b[0m \u001b[0;32min\u001b[0m \u001b[0menumerate\u001b[0m\u001b[0;34m(\u001b[0m\u001b[0msub_path\u001b[0m\u001b[0;34m)\u001b[0m\u001b[0;34m:\u001b[0m\u001b[0;34m\u001b[0m\u001b[0;34m\u001b[0m\u001b[0m\n\u001b[1;32m     47\u001b[0m                     \u001b[0mfp\u001b[0m \u001b[0;34m=\u001b[0m \u001b[0mosp\u001b[0m\u001b[0;34m.\u001b[0m\u001b[0mjoin\u001b[0m\u001b[0;34m(\u001b[0m\u001b[0mscene_folder\u001b[0m\u001b[0;34m,\u001b[0m \u001b[0mfile_name\u001b[0m\u001b[0;34m)\u001b[0m\u001b[0;34m\u001b[0m\u001b[0;34m\u001b[0m\u001b[0m\n\u001b[0;32m---> 48\u001b[0;31m                     \u001b[0mos\u001b[0m\u001b[0;34m.\u001b[0m\u001b[0mremove\u001b[0m\u001b[0;34m(\u001b[0m\u001b[0mfp\u001b[0m\u001b[0;34m)\u001b[0m\u001b[0;34m\u001b[0m\u001b[0;34m\u001b[0m\u001b[0m\n\u001b[0m",
      "\u001b[0;31mIsADirectoryError\u001b[0m: [Errno 21] Is a directory: '../../data/ADE20K_chair/validation/e/elevator/.'"
     ]
    }
   ],
   "source": [
    "dataset_folder = \"../../data/ADE20K_chair/validation/\"\n",
    "list_file_path = []\n",
    "list_abc_folder = next(os.walk(dataset_folder))[1]\n",
    "for each_abc_folder in list_abc_folder:\n",
    "    abc_folder=osp.join(dataset_folder, each_abc_folder)\n",
    "    list_scene_folder = next(os.walk(abc_folder))[1]\n",
    "    for each_scene_folder in list_scene_folder:\n",
    "        scene_folder = osp.join(abc_folder, each_scene_folder)\n",
    "        list_file = next(os.walk(scene_folder))[2]\n",
    "        for idx, file_name in enumerate(list_file):\n",
    "            if \"_seg.png\" in file_name:\n",
    "                ori_fn = file_name[:16]\n",
    "                fp1 = osp.join(scene_folder, ori_fn+\".jpg\")\n",
    "                fp2 = osp.join(scene_folder, ori_fn+\"_seg.png\")\n",
    "                list_file_path.append(fp1)\n",
    "                list_file_path.append(fp2)\n",
    "        if len(list_file) == 0:\n",
    "            list_sub_folder = next(os.walk(scene_folder))[1]\n",
    "            for sub_folder in list_sub_folder: \n",
    "                sub_path = osp.join(scene_folder, sub_folder)\n",
    "                list_file = next(os.walk(scene_folder))[2]\n",
    "                for idx, file_name in enumerate(sub_path):\n",
    "                    if \"_seg.png\" in file_name:\n",
    "                        ori_fn = file_name[:16]\n",
    "                        fp1 = osp.join(scene_folder, ori_fn+\".jpg\")\n",
    "                        fp2 = osp.join(scene_folder, ori_fn+\"_seg.png\")\n",
    "                        list_file_path.append(fp1)\n",
    "                        list_file_path.append(fp2)\n",
    "\n",
    "list_abc_folder = next(os.walk(dataset_folder))[1]\n",
    "for each_abc_folder in list_abc_folder:\n",
    "    abc_folder=osp.join(dataset_folder, each_abc_folder)\n",
    "    list_scene_folder = next(os.walk(abc_folder))[1]\n",
    "    for each_scene_folder in list_scene_folder:\n",
    "        scene_folder = osp.join(abc_folder, each_scene_folder)\n",
    "        list_file = next(os.walk(scene_folder))[2]\n",
    "        for idx, file_name in enumerate(list_file):\n",
    "            fp = osp.join(scene_folder, file_name)\n",
    "            if fp not in list_file_path:\n",
    "                os.remove(fp)\n",
    "        if len(list_file) == 0:\n",
    "            list_sub_folder = next(os.walk(scene_folder))[1]\n",
    "            for sub_folder in list_sub_folder: \n",
    "                sub_path = osp.join(scene_folder, sub_folder)\n",
    "                list_file = next(os.walk(scene_folder))[2]\n",
    "                for idx, file_name in enumerate(sub_path):\n",
    "                    fp = osp.join(scene_folder, file_name)\n",
    "                    os.remove(fp)"
   ]
  },
  {
   "cell_type": "code",
   "execution_count": 19,
   "metadata": {},
   "outputs": [
    {
     "name": "stdout",
     "output_type": "stream",
     "text": [
      "542\n"
     ]
    }
   ],
   "source": [
    "print(len(list_file_path))"
   ]
  },
  {
   "cell_type": "code",
   "execution_count": 20,
   "metadata": {},
   "outputs": [],
   "source": [
    "with open(\"val.pkl\", \"wb\") as fp:\n",
    "    pickle.dump(list_file_path, fp)\n"
   ]
  },
  {
   "cell_type": "code",
   "execution_count": 2,
   "metadata": {},
   "outputs": [],
   "source": [
    "with open(\"val.pkl\", \"rb\") as fp:\n",
    "    val_list = pickle.load(fp)\n",
    "    \n",
    "with open(\"train.pkl\", \"rb\") as fp:\n",
    "    train_list = pickle.load(fp)"
   ]
  },
  {
   "cell_type": "code",
   "execution_count": 3,
   "metadata": {},
   "outputs": [
    {
     "data": {
      "text/plain": [
       "5398"
      ]
     },
     "execution_count": 3,
     "metadata": {},
     "output_type": "execute_result"
    }
   ],
   "source": [
    "len(train_list)"
   ]
  },
  {
   "cell_type": "code",
   "execution_count": 4,
   "metadata": {},
   "outputs": [
    {
     "data": {
      "text/plain": [
       "542"
      ]
     },
     "execution_count": 4,
     "metadata": {},
     "output_type": "execute_result"
    }
   ],
   "source": [
    "len(val_list)"
   ]
  },
  {
   "cell_type": "code",
   "execution_count": null,
   "metadata": {},
   "outputs": [],
   "source": [
    "# test some sample"
   ]
  },
  {
   "cell_type": "code",
   "execution_count": 6,
   "metadata": {},
   "outputs": [],
   "source": [
    "dataset_folder = \"../../data/ADE20K_chair/full_evaluation_data/\"\n",
    "list_file_path = []\n",
    "list_abc_folder = next(os.walk(dataset_folder))[1]\n",
    "for each_abc_folder in list_abc_folder:\n",
    "    abc_folder=osp.join(dataset_folder, each_abc_folder)\n",
    "    list_scene_folder = next(os.walk(abc_folder))[1]\n",
    "    for each_scene_folder in list_scene_folder:\n",
    "        scene_folder = osp.join(abc_folder, each_scene_folder)\n",
    "        list_file = next(os.walk(scene_folder))[2]\n",
    "        for idx, file_name in enumerate(list_file):\n",
    "            if \"_seg.png\" in file_name:\n",
    "                ori_fn = file_name[:16]\n",
    "                fp1 = osp.join(scene_folder, ori_fn+\".jpg\")\n",
    "                fp2 = osp.join(scene_folder, ori_fn+\"_seg.png\")\n",
    "                list_file_path.append(fp1)\n",
    "                list_file_path.append(fp2)\n",
    "        if len(list_file) == 0:\n",
    "            list_sub_folder = next(os.walk(scene_folder))[1]\n",
    "            for sub_folder in list_sub_folder: \n",
    "                sub_path = osp.join(scene_folder, sub_folder)\n",
    "                list_file = next(os.walk(scene_folder))[2]\n",
    "                for idx, file_name in enumerate(sub_path):\n",
    "                    if \"_seg.png\" in file_name:\n",
    "                        ori_fn = file_name[:16]\n",
    "                        fp1 = osp.join(scene_folder, ori_fn+\".jpg\")\n",
    "                        fp2 = osp.join(scene_folder, ori_fn+\"_seg.png\")\n",
    "                        list_file_path.append(fp1)\n",
    "                        list_file_path.append(fp2)\n"
   ]
  },
  {
   "cell_type": "code",
   "execution_count": 7,
   "metadata": {},
   "outputs": [
    {
     "name": "stdout",
     "output_type": "stream",
     "text": [
      "3048\n"
     ]
    }
   ],
   "source": [
    "print(len(list_file_path))"
   ]
  },
  {
   "cell_type": "code",
   "execution_count": 4,
   "metadata": {},
   "outputs": [],
   "source": [
    "with open(\"val_full.pkl\", \"wb\") as fp:\n",
    "    pickle.dump(list_file_path, fp)"
   ]
  },
  {
   "cell_type": "code",
   "execution_count": null,
   "metadata": {},
   "outputs": [],
   "source": []
  }
 ],
 "metadata": {
  "kernelspec": {
   "display_name": "Python 3",
   "language": "python",
   "name": "python3"
  },
  "language_info": {
   "codemirror_mode": {
    "name": "ipython",
    "version": 3
   },
   "file_extension": ".py",
   "mimetype": "text/x-python",
   "name": "python",
   "nbconvert_exporter": "python",
   "pygments_lexer": "ipython3",
   "version": "3.7.6"
  }
 },
 "nbformat": 4,
 "nbformat_minor": 4
}
