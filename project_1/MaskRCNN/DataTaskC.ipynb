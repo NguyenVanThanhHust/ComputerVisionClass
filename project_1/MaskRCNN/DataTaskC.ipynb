{
 "cells": [
  {
   "cell_type": "code",
   "execution_count": 1,
   "metadata": {},
   "outputs": [],
   "source": [
    "import os\n",
    "import os.path as osp\n",
    "import pickle"
   ]
  },
  {
   "cell_type": "code",
   "execution_count": 9,
   "metadata": {},
   "outputs": [],
   "source": [
    "dataset_folder = \"../../data/ADE20K_chair/training/\"\n",
    "if not osp.isdir(dataset_folder):\n",
    "    print(\"check\")\n",
    "    \n",
    "new_dataset_folder = \"../../data/ADE20K_task_c/\"\n",
    "if not osp.isdir(new_dataset_folder):\n",
    "    os.mkdir(new_dataset_folder)\n",
    "    \n",
    "new_dataset_folder_training = \"../../data/ADE20K_task_c/training\"\n",
    "if not osp.isdir(new_dataset_folder_training):\n",
    "    os.mkdir(new_dataset_folder_training)\n",
    "    \n",
    "new_dataset_folder_valid = \"../../data/ADE20K_task_c/valid\"\n",
    "if not osp.isdir(new_dataset_folder_valid):\n",
    "    os.mkdir(new_dataset_folder_valid)\n"
   ]
  },
  {
   "cell_type": "code",
   "execution_count": 4,
   "metadata": {},
   "outputs": [],
   "source": [
    "with open(\"dataset/train.pkl\", \"rb\") as fp:\n",
    "    list_file_path = pickle.load(fp)"
   ]
  },
  {
   "cell_type": "code",
   "execution_count": 5,
   "metadata": {},
   "outputs": [
    {
     "name": "stdout",
     "output_type": "stream",
     "text": [
      "5398\n"
     ]
    }
   ],
   "source": [
    "print(len(list_file_path))"
   ]
  },
  {
   "cell_type": "code",
   "execution_count": 12,
   "metadata": {},
   "outputs": [],
   "source": [
    "from shutil import copyfile\n",
    "\n",
    "for file_path in list_file_path:\n",
    "    ff_name = file_path.split(\"/\")\n",
    "    filename = ff_name[-1]\n",
    "    if filename.endswith(\".jpg\"):\n",
    "        new_file_train = osp.join(new_dataset_folder_training, filename)\n",
    "        copyfile(file_path, new_file_train)"
   ]
  },
  {
   "cell_type": "code",
   "execution_count": 13,
   "metadata": {},
   "outputs": [],
   "source": [
    "for file_path in list_file_path:\n",
    "    ff_name = file_path.split(\"/\")\n",
    "    filename = ff_name[-1]\n",
    "    if filename.endswith(\".png\"):\n",
    "        new_file_train = osp.join(new_dataset_folder_training, filename)\n",
    "        copyfile(file_path, new_file_train)"
   ]
  },
  {
   "cell_type": "code",
   "execution_count": 20,
   "metadata": {},
   "outputs": [],
   "source": [
    "with open(\"dataset/val.pkl\", \"rb\") as fp:\n",
    "    list_file_path = pickle.load(fp)"
   ]
  },
  {
   "cell_type": "code",
   "execution_count": null,
   "metadata": {},
   "outputs": [],
   "source": [
    "from shutil import copyfile\n",
    "\n",
    "for file_path in list_file_path:\n",
    "    ff_name = file_path.split(\"/\")\n",
    "    filename = ff_name[-1]\n",
    "    if filename.endswith(\".jpg\"):\n",
    "        new_file_train = osp.join(new_dataset_folder_training, filename)\n",
    "        copyfile(file_path, new_file_train)"
   ]
  },
  {
   "cell_type": "code",
   "execution_count": 15,
   "metadata": {},
   "outputs": [],
   "source": [
    "with open(\"dataset/val.pkl\", \"rb\") as fp:\n",
    "    val_list = pickle.load(fp)"
   ]
  },
  {
   "cell_type": "code",
   "execution_count": 16,
   "metadata": {},
   "outputs": [
    {
     "data": {
      "text/plain": [
       "542"
      ]
     },
     "execution_count": 16,
     "metadata": {},
     "output_type": "execute_result"
    }
   ],
   "source": [
    "len(val_list)"
   ]
  },
  {
   "cell_type": "code",
   "execution_count": 17,
   "metadata": {},
   "outputs": [],
   "source": [
    "from shutil import copyfile\n",
    "\n",
    "for file_path in val_list:\n",
    "    ff_name = file_path.split(\"/\")\n",
    "    filename = ff_name[-1]\n",
    "    if filename.endswith(\".jpg\"):\n",
    "        new_file_val = osp.join(new_dataset_folder_valid, filename)\n",
    "        copyfile(file_path, new_file_val)"
   ]
  }
 ],
 "metadata": {
  "kernelspec": {
   "display_name": "Python 3",
   "language": "python",
   "name": "python3"
  },
  "language_info": {
   "codemirror_mode": {
    "name": "ipython",
    "version": 3
   },
   "file_extension": ".py",
   "mimetype": "text/x-python",
   "name": "python",
   "nbconvert_exporter": "python",
   "pygments_lexer": "ipython3",
   "version": "3.7.6"
  }
 },
 "nbformat": 4,
 "nbformat_minor": 4
}
