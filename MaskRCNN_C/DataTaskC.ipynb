{
 "cells": [
  {
   "cell_type": "code",
   "execution_count": 1,
   "metadata": {},
   "outputs": [],
   "source": [
    "import os\n",
    "import os.path as osp\n",
    "import pickle"
   ]
  },
  {
   "cell_type": "code",
   "execution_count": 9,
   "metadata": {},
   "outputs": [],
   "source": [
    "dataset_folder = \"../../data/ADE20K_chair/training/\"\n",
    "if not osp.isdir(dataset_folder):\n",
    "    print(\"check\")\n",
    "    \n",
    "new_dataset_folder = \"../../data/ADE20K_task_c/\"\n",
    "if not osp.isdir(new_dataset_folder):\n",
    "    os.mkdir(new_dataset_folder)\n",
    "    \n",
    "new_dataset_folder_training = \"../../data/ADE20K_task_c/training\"\n",
    "if not osp.isdir(new_dataset_folder_training):\n",
    "    os.mkdir(new_dataset_folder_training)\n",
    "    \n",
    "new_dataset_folder_valid = \"../../data/ADE20K_task_c/valid\"\n",
    "if not osp.isdir(new_dataset_folder_valid):\n",
    "    os.mkdir(new_dataset_folder_valid)\n"
   ]
  },
  {
   "cell_type": "code",
   "execution_count": 4,
   "metadata": {},
   "outputs": [],
   "source": [
    "with open(\"dataset/train.pkl\", \"rb\") as fp:\n",
    "    list_file_path = pickle.load(fp)"
   ]
  },
  {
   "cell_type": "code",
   "execution_count": 5,
   "metadata": {},
   "outputs": [
    {
     "name": "stdout",
     "output_type": "stream",
     "text": [
      "5398\n"
     ]
    }
   ],
   "source": [
    "print(len(list_file_path))"
   ]
  },
  {
   "cell_type": "code",
   "execution_count": 12,
   "metadata": {},
   "outputs": [],
   "source": [
    "from shutil import copyfile\n",
    "\n",
    "for file_path in list_file_path:\n",
    "    ff_name = file_path.split(\"/\")\n",
    "    filename = ff_name[-1]\n",
    "    if filename.endswith(\".jpg\"):\n",
    "        new_file_train = osp.join(new_dataset_folder_training, filename)\n",
    "        copyfile(file_path, new_file_train)"
   ]
  },
  {
   "cell_type": "code",
   "execution_count": 13,
   "metadata": {},
   "outputs": [],
   "source": [
    "for file_path in list_file_path:\n",
    "    ff_name = file_path.split(\"/\")\n",
    "    filename = ff_name[-1]\n",
    "    if filename.endswith(\".png\"):\n",
    "        new_file_train = osp.join(new_dataset_folder_training, filename)\n",
    "        copyfile(file_path, new_file_train)"
   ]
  },
  {
   "cell_type": "code",
   "execution_count": 20,
   "metadata": {},
   "outputs": [],
   "source": [
    "with open(\"dataset/val.pkl\", \"rb\") as fp:\n",
    "    list_file_path = pickle.load(fp)"
   ]
  },
  {
   "cell_type": "code",
   "execution_count": null,
   "metadata": {},
   "outputs": [],
   "source": [
    "from shutil import copyfile\n",
    "\n",
    "for file_path in list_file_path:\n",
    "    ff_name = file_path.split(\"/\")\n",
    "    filename = ff_name[-1]\n",
    "    if filename.endswith(\".jpg\"):\n",
    "        new_file_train = osp.join(new_dataset_folder_training, filename)\n",
    "        copyfile(file_path, new_file_train)"
   ]
  },
  {
   "cell_type": "code",
   "execution_count": 2,
   "metadata": {},
   "outputs": [],
   "source": [
    "with open(\"val.pkl\", \"rb\") as fp:\n",
    "    val_list = pickle.load(fp)\n",
    "    \n",
    "with open(\"train.pkl\", \"rb\") as fp:\n",
    "    train_list = pickle.load(fp)"
   ]
  },
  {
   "cell_type": "code",
   "execution_count": 3,
   "metadata": {},
   "outputs": [
    {
     "data": {
      "text/plain": [
       "5398"
      ]
     },
     "execution_count": 3,
     "metadata": {},
     "output_type": "execute_result"
    }
   ],
   "source": [
    "len(train_list)"
   ]
  },
  {
   "cell_type": "code",
   "execution_count": 4,
   "metadata": {},
   "outputs": [
    {
     "data": {
      "text/plain": [
       "542"
      ]
     },
     "execution_count": 4,
     "metadata": {},
     "output_type": "execute_result"
    }
   ],
   "source": [
    "len(val_list)"
   ]
  },
  {
   "cell_type": "code",
   "execution_count": null,
   "metadata": {},
   "outputs": [],
   "source": [
    "# test some sample"
   ]
  },
  {
   "cell_type": "code",
   "execution_count": 6,
   "metadata": {},
   "outputs": [],
   "source": [
    "dataset_folder = \"../../data/ADE20K_chair/full_evaluation_data/\"\n",
    "list_file_path = []\n",
    "list_abc_folder = next(os.walk(dataset_folder))[1]\n",
    "for each_abc_folder in list_abc_folder:\n",
    "    abc_folder=osp.join(dataset_folder, each_abc_folder)\n",
    "    list_scene_folder = next(os.walk(abc_folder))[1]\n",
    "    for each_scene_folder in list_scene_folder:\n",
    "        scene_folder = osp.join(abc_folder, each_scene_folder)\n",
    "        list_file = next(os.walk(scene_folder))[2]\n",
    "        for idx, file_name in enumerate(list_file):\n",
    "            if \"_seg.png\" in file_name:\n",
    "                ori_fn = file_name[:16]\n",
    "                fp1 = osp.join(scene_folder, ori_fn+\".jpg\")\n",
    "                fp2 = osp.join(scene_folder, ori_fn+\"_seg.png\")\n",
    "                list_file_path.append(fp1)\n",
    "                list_file_path.append(fp2)\n",
    "        if len(list_file) == 0:\n",
    "            list_sub_folder = next(os.walk(scene_folder))[1]\n",
    "            for sub_folder in list_sub_folder: \n",
    "                sub_path = osp.join(scene_folder, sub_folder)\n",
    "                list_file = next(os.walk(scene_folder))[2]\n",
    "                for idx, file_name in enumerate(sub_path):\n",
    "                    if \"_seg.png\" in file_name:\n",
    "                        ori_fn = file_name[:16]\n",
    "                        fp1 = osp.join(scene_folder, ori_fn+\".jpg\")\n",
    "                        fp2 = osp.join(scene_folder, ori_fn+\"_seg.png\")\n",
    "                        list_file_path.append(fp1)\n",
    "                        list_file_path.append(fp2)\n"
   ]
  },
  {
   "cell_type": "code",
   "execution_count": 7,
   "metadata": {},
   "outputs": [
    {
     "name": "stdout",
     "output_type": "stream",
     "text": [
      "3048\n"
     ]
    }
   ],
   "source": [
    "print(len(list_file_path))"
   ]
  },
  {
   "cell_type": "code",
   "execution_count": 4,
   "metadata": {},
   "outputs": [],
   "source": [
    "with open(\"val_full.pkl\", \"wb\") as fp:\n",
    "    pickle.dump(list_file_path, fp)"
   ]
  },
  {
   "cell_type": "code",
   "execution_count": null,
   "metadata": {},
   "outputs": [],
   "source": []
  }
 ],
 "metadata": {
  "kernelspec": {
   "display_name": "Python 3",
   "language": "python",
   "name": "python3"
  },
  "language_info": {
   "codemirror_mode": {
    "name": "ipython",
    "version": 3
   },
   "file_extension": ".py",
   "mimetype": "text/x-python",
   "name": "python",
   "nbconvert_exporter": "python",
   "pygments_lexer": "ipython3",
   "version": "3.7.6"
  }
 },
 "nbformat": 4,
 "nbformat_minor": 4
}
